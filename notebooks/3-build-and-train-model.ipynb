{
 "cells": [
  {
   "cell_type": "code",
   "execution_count": 3,
   "metadata": {},
   "outputs": [
    {
     "name": "stderr",
     "output_type": "stream",
     "text": [
      "C:\\Users\\oscar\\AppData\\Roaming\\Python\\Python310\\site-packages\\pandas\\core\\arrays\\masked.py:60: UserWarning: Pandas requires version '1.3.6' or newer of 'bottleneck' (version '1.3.5' currently installed).\n",
      "  from pandas.core import (\n"
     ]
    }
   ],
   "source": [
    "from datasets import load_from_disk\n",
    "data = load_from_disk(r\"F:\\NLP-Practices\\NER-For-Resume-Entity-Ectraction\\data\\tokenized_data\")"
   ]
  },
  {
   "cell_type": "code",
   "execution_count": 4,
   "metadata": {},
   "outputs": [
    {
     "data": {
      "text/plain": [
       "DatasetDict({\n",
       "    train: Dataset({\n",
       "        features: ['input_ids', 'attention_mask', 'labels'],\n",
       "        num_rows: 198\n",
       "    })\n",
       "    validation: Dataset({\n",
       "        features: ['input_ids', 'attention_mask', 'labels'],\n",
       "        num_rows: 22\n",
       "    })\n",
       "})"
      ]
     },
     "execution_count": 4,
     "metadata": {},
     "output_type": "execute_result"
    }
   ],
   "source": [
    "data"
   ]
  },
  {
   "cell_type": "code",
   "execution_count": 5,
   "metadata": {},
   "outputs": [
    {
     "data": {
      "text/plain": [
       "[-100,\n",
       " 7,\n",
       " 17,\n",
       " 17,\n",
       " 3,\n",
       " 3,\n",
       " 13,\n",
       " 13,\n",
       " 13,\n",
       " 13,\n",
       " 6,\n",
       " 16,\n",
       " 6,\n",
       " -100,\n",
       " -100,\n",
       " -100,\n",
       " -100,\n",
       " -100,\n",
       " -100,\n",
       " -100,\n",
       " 4,\n",
       " 14,\n",
       " 14,\n",
       " 14,\n",
       " 14,\n",
       " 14,\n",
       " 14,\n",
       " 14,\n",
       " 14,\n",
       " 14,\n",
       " 14,\n",
       " 14,\n",
       " 14,\n",
       " 14,\n",
       " 14,\n",
       " 14,\n",
       " 14,\n",
       " 14,\n",
       " 14,\n",
       " 14,\n",
       " 14,\n",
       " -100,\n",
       " -100,\n",
       " -100,\n",
       " -100,\n",
       " 3,\n",
       " 3,\n",
       " 13,\n",
       " 13,\n",
       " 13,\n",
       " 13,\n",
       " -100,\n",
       " -100,\n",
       " -100,\n",
       " -100,\n",
       " -100,\n",
       " -100,\n",
       " -100,\n",
       " -100,\n",
       " -100,\n",
       " -100,\n",
       " -100,\n",
       " -100,\n",
       " -100,\n",
       " 2,\n",
       " 12,\n",
       " 12,\n",
       " 12,\n",
       " -100,\n",
       " -100,\n",
       " -100,\n",
       " -100,\n",
       " -100,\n",
       " -100,\n",
       " -100,\n",
       " -100,\n",
       " -100,\n",
       " -100,\n",
       " -100,\n",
       " -100,\n",
       " -100,\n",
       " -100,\n",
       " -100,\n",
       " -100,\n",
       " -100,\n",
       " -100,\n",
       " -100,\n",
       " -100,\n",
       " -100,\n",
       " -100,\n",
       " -100,\n",
       " -100,\n",
       " -100,\n",
       " -100,\n",
       " -100,\n",
       " -100,\n",
       " -100,\n",
       " -100,\n",
       " -100,\n",
       " -100,\n",
       " -100,\n",
       " -100,\n",
       " -100,\n",
       " 8,\n",
       " 18,\n",
       " 18,\n",
       " 18,\n",
       " -100,\n",
       " -100,\n",
       " -100,\n",
       " -100,\n",
       " -100,\n",
       " -100,\n",
       " -100,\n",
       " -100,\n",
       " -100,\n",
       " -100,\n",
       " -100,\n",
       " -100,\n",
       " -100,\n",
       " -100,\n",
       " -100,\n",
       " -100,\n",
       " -100,\n",
       " -100,\n",
       " -100,\n",
       " -100,\n",
       " -100,\n",
       " 7,\n",
       " 17,\n",
       " 17,\n",
       " -100,\n",
       " -100,\n",
       " -100,\n",
       " -100,\n",
       " -100,\n",
       " -100,\n",
       " -100,\n",
       " -100,\n",
       " -100,\n",
       " -100,\n",
       " -100,\n",
       " -100,\n",
       " -100,\n",
       " -100,\n",
       " -100,\n",
       " -100,\n",
       " -100,\n",
       " -100,\n",
       " -100,\n",
       " -100,\n",
       " -100,\n",
       " -100,\n",
       " -100,\n",
       " -100,\n",
       " -100,\n",
       " -100,\n",
       " -100,\n",
       " -100,\n",
       " -100,\n",
       " -100,\n",
       " -100,\n",
       " -100,\n",
       " -100,\n",
       " -100,\n",
       " -100,\n",
       " -100,\n",
       " -100,\n",
       " -100,\n",
       " -100,\n",
       " -100,\n",
       " -100,\n",
       " -100,\n",
       " -100,\n",
       " -100,\n",
       " -100,\n",
       " 4,\n",
       " 14,\n",
       " 14,\n",
       " 14,\n",
       " 14,\n",
       " 14,\n",
       " 14,\n",
       " 14,\n",
       " 14,\n",
       " 14,\n",
       " 14,\n",
       " 14,\n",
       " 14,\n",
       " 14,\n",
       " 14,\n",
       " 14,\n",
       " 14,\n",
       " 14,\n",
       " 14,\n",
       " -100]"
      ]
     },
     "execution_count": 5,
     "metadata": {},
     "output_type": "execute_result"
    }
   ],
   "source": [
    "data['train'][0]['labels']"
   ]
  },
  {
   "cell_type": "code",
   "execution_count": 1,
   "metadata": {},
   "outputs": [],
   "source": [
    "import pickle\n",
    "with open(\"../label2id.pkl\" , \"rb\") as f:\n",
    "    label2did = pickle.load(f) "
   ]
  },
  {
   "cell_type": "code",
   "execution_count": 2,
   "metadata": {},
   "outputs": [
    {
     "data": {
      "text/plain": [
       "{'B-COL': 0,\n",
       " 'B-CWA': 1,\n",
       " 'B-Degree': 2,\n",
       " 'B-Des': 3,\n",
       " 'B-Email': 4,\n",
       " 'B-GYear': 5,\n",
       " 'B-LOC': 6,\n",
       " 'B-Name': 7,\n",
       " 'B-Skills': 8,\n",
       " 'B-YOE': 9,\n",
       " 'I-COL': 10,\n",
       " 'I-CWA': 11,\n",
       " 'I-Degree': 12,\n",
       " 'I-Des': 13,\n",
       " 'I-Email': 14,\n",
       " 'I-GYear': 15,\n",
       " 'I-LOC': 16,\n",
       " 'I-Name': 17,\n",
       " 'I-Skills': 18,\n",
       " 'I-YOE': 19,\n",
       " 'O': 20}"
      ]
     },
     "execution_count": 2,
     "metadata": {},
     "output_type": "execute_result"
    }
   ],
   "source": [
    "label2did"
   ]
  },
  {
   "cell_type": "code",
   "execution_count": 5,
   "metadata": {},
   "outputs": [],
   "source": [
    "from transformers import pipeline\n",
    "pippe = pipeline(\"ner\" , \"../model/saved_model\", aggregation_strategy=\"simple\" )"
   ]
  },
  {
   "cell_type": "code",
   "execution_count": 9,
   "metadata": {},
   "outputs": [
    {
     "data": {
      "text/plain": [
       "[{'entity_group': 'Name',\n",
       "  'score': 0.9689748,\n",
       "  'word': 'Mohamed Samy',\n",
       "  'start': 0,\n",
       "  'end': 12},\n",
       " {'entity_group': 'Email',\n",
       "  'score': 0.42064336,\n",
       "  'word': 'email : mohamed@gmail.com',\n",
       "  'start': 13,\n",
       "  'end': 38},\n",
       " {'entity_group': 'Skills',\n",
       "  'score': 0.87733096,\n",
       "  'word': 'skills : python , sql',\n",
       "  'start': 39,\n",
       "  'end': 60},\n",
       " {'entity_group': 'Degree',\n",
       "  'score': 0.21662194,\n",
       "  'word': 'i',\n",
       "  'start': 62,\n",
       "  'end': 63},\n",
       " {'entity_group': 'COL',\n",
       "  'score': 0.24928723,\n",
       "  'word': 'graduate',\n",
       "  'start': 64,\n",
       "  'end': 72},\n",
       " {'entity_group': 'Degree',\n",
       "  'score': 0.40736264,\n",
       "  'word': 'd',\n",
       "  'start': 72,\n",
       "  'end': 73},\n",
       " {'entity_group': 'COL',\n",
       "  'score': 0.65911263,\n",
       "  'word': 'from mansoura university.',\n",
       "  'start': 74,\n",
       "  'end': 99},\n",
       " {'entity_group': 'Degree',\n",
       "  'score': 0.23446114,\n",
       "  'word': 'work experience',\n",
       "  'start': 101,\n",
       "  'end': 116},\n",
       " {'entity_group': 'Des',\n",
       "  'score': 0.43340972,\n",
       "  'word': '1-software engineering',\n",
       "  'start': 118,\n",
       "  'end': 140},\n",
       " {'entity_group': 'CWA',\n",
       "  'score': 0.60141534,\n",
       "  'word': '(',\n",
       "  'start': 142,\n",
       "  'end': 143},\n",
       " {'entity_group': 'CWA',\n",
       "  'score': 0.41552413,\n",
       "  'word': 'google)',\n",
       "  'start': 143,\n",
       "  'end': 150}]"
      ]
     },
     "execution_count": 9,
     "metadata": {},
     "output_type": "execute_result"
    }
   ],
   "source": [
    "pippe('Mohamed Samy email : mohamed@gmail.com skills : python , sql\\n i graduated from mansoura university. \\nwork experience \\n1-software engineering  (google)')"
   ]
  },
  {
   "cell_type": "code",
   "execution_count": 53,
   "metadata": {},
   "outputs": [],
   "source": [
    "def filter_entitiles(output):\n",
    "    return [ent for ent in output if ent['score'] > 0.39 ]\n"
   ]
  },
  {
   "cell_type": "code",
   "execution_count": 54,
   "metadata": {},
   "outputs": [],
   "source": [
    "def ner(text):\n",
    "  output = pippe(text, aggregation_strategy=\"simple\")\n",
    "  return {\"text\": text, \"entities\": filter_entitiles(output)}"
   ]
  },
  {
   "cell_type": "code",
   "execution_count": 55,
   "metadata": {},
   "outputs": [
    {
     "data": {
      "text/plain": [
       "{'text': 'Mohamed Samy Email: mohamed@gmail.com skills : python , sql\\n i graduated from mansoura university. \\nwork experience \\n1-software engineering  (google)',\n",
       " 'entities': [{'entity_group': 'Name',\n",
       "   'score': 0.9747004,\n",
       "   'word': 'Mohamed Samy',\n",
       "   'start': 0,\n",
       "   'end': 12},\n",
       "  {'entity_group': 'Email',\n",
       "   'score': 0.46910688,\n",
       "   'word': 'Email: mohamed@gmail.com',\n",
       "   'start': 13,\n",
       "   'end': 37},\n",
       "  {'entity_group': 'Skills',\n",
       "   'score': 0.8529353,\n",
       "   'word': 'skills : python , sql',\n",
       "   'start': 38,\n",
       "   'end': 59},\n",
       "  {'entity_group': 'Degree',\n",
       "   'score': 0.40143022,\n",
       "   'word': 'd',\n",
       "   'start': 71,\n",
       "   'end': 72},\n",
       "  {'entity_group': 'COL',\n",
       "   'score': 0.6548004,\n",
       "   'word': 'from mansoura university.',\n",
       "   'start': 73,\n",
       "   'end': 98},\n",
       "  {'entity_group': 'Des',\n",
       "   'score': 0.4390687,\n",
       "   'word': '1-software engineering',\n",
       "   'start': 117,\n",
       "   'end': 139},\n",
       "  {'entity_group': 'CWA',\n",
       "   'score': 0.6003125,\n",
       "   'word': '(',\n",
       "   'start': 141,\n",
       "   'end': 142},\n",
       "  {'entity_group': 'CWA',\n",
       "   'score': 0.41539663,\n",
       "   'word': 'google)',\n",
       "   'start': 142,\n",
       "   'end': 149}]}"
      ]
     },
     "execution_count": 55,
     "metadata": {},
     "output_type": "execute_result"
    }
   ],
   "source": [
    "ner(\"Mohamed Samy Email: mohamed@gmail.com skills : python , sql\\n i graduated from mansoura university. \\nwork experience \\n1-software engineering  (google)\")"
   ]
  },
  {
   "cell_type": "code",
   "execution_count": 45,
   "metadata": {},
   "outputs": [],
   "source": [
    "from pypdf import PdfFileReader"
   ]
  },
  {
   "cell_type": "code",
   "execution_count": 52,
   "metadata": {},
   "outputs": [
    {
     "name": "stdout",
     "output_type": "stream",
     "text": [
      "Error: bad type: 'stream'\n",
      "\n"
     ]
    }
   ],
   "source": [
    "import fitz  # PyMuPDF\n",
    "\n",
    "def pdf_to_text(pdf_path):\n",
    "    \"\"\"\n",
    "    Convert the text content of a PDF file to a string.\n",
    "\n",
    "    Parameters:\n",
    "    - pdf_path (str): The path to the PDF file.\n",
    "\n",
    "    Returns:\n",
    "    - str: The text content of the PDF.\n",
    "    \"\"\"\n",
    "    text = \"\"\n",
    "\n",
    "    try:\n",
    "        # Open the PDF file\n",
    "        with fitz.open(pdf_path , \"rb\") as pdf_document:\n",
    "            # Iterate through pages\n",
    "            for page_num in range(pdf_document.page_count):\n",
    "                page = pdf_document[page_num]\n",
    "                # Extract text from the page\n",
    "                text += page.get_text()\n",
    "\n",
    "    except Exception as e:\n",
    "        print(f\"Error: {e}\")\n",
    "\n",
    "    return text\n",
    "\n",
    "# Example usage\n",
    "pdf_path = \"D:\\Yassmin.pdf\"\n",
    "text_content = pdf_to_text(pdf_path)\n",
    "print(text_content)\n"
   ]
  },
  {
   "cell_type": "code",
   "execution_count": 10,
   "metadata": {},
   "outputs": [],
   "source": [
    "import gradio"
   ]
  },
  {
   "cell_type": "code",
   "execution_count": 18,
   "metadata": {},
   "outputs": [],
   "source": [
    "demo = gradio.Interface(\n",
    "    \n",
    "    fn = ner , \n",
    "    inputs= gradio.Textbox('Enter a text') ,\n",
    "    outputs= gradio.HighlightedText()\n",
    ")"
   ]
  },
  {
   "cell_type": "code",
   "execution_count": 19,
   "metadata": {},
   "outputs": [
    {
     "name": "stdout",
     "output_type": "stream",
     "text": [
      "Running on local URL:  http://127.0.0.1:7862\n",
      "\n",
      "To create a public link, set `share=True` in `launch()`.\n"
     ]
    },
    {
     "data": {
      "text/html": [
       "<div><iframe src=\"http://127.0.0.1:7862/\" width=\"100%\" height=\"500\" allow=\"autoplay; camera; microphone; clipboard-read; clipboard-write;\" frameborder=\"0\" allowfullscreen></iframe></div>"
      ],
      "text/plain": [
       "<IPython.core.display.HTML object>"
      ]
     },
     "metadata": {},
     "output_type": "display_data"
    },
    {
     "data": {
      "text/plain": []
     },
     "execution_count": 19,
     "metadata": {},
     "output_type": "execute_result"
    }
   ],
   "source": [
    "demo.launch()"
   ]
  }
 ],
 "metadata": {
  "kernelspec": {
   "display_name": "base",
   "language": "python",
   "name": "python3"
  },
  "language_info": {
   "codemirror_mode": {
    "name": "ipython",
    "version": 3
   },
   "file_extension": ".py",
   "mimetype": "text/x-python",
   "name": "python",
   "nbconvert_exporter": "python",
   "pygments_lexer": "ipython3",
   "version": "3.10.9"
  }
 },
 "nbformat": 4,
 "nbformat_minor": 2
}
